{
  "nbformat": 4,
  "nbformat_minor": 0,
  "metadata": {
    "colab": {
      "provenance": []
    },
    "kernelspec": {
      "name": "python3",
      "display_name": "Python 3"
    },
    "language_info": {
      "name": "python"
    }
  },
  "cells": [
    {
      "cell_type": "markdown",
      "source": [
        "Q1: You are working in a bank, and you have been given two lists of the employees who worked in 2021. Employees’ names in list 1 are Ramesh, Suresh, Mahesh, Ali, Jacob, and Saritha. List 2 contains the names of Ali, Mukesh, Mahesh, Jacob, Sai, and Sarita. Please write a program that helps to identify people who are common in both lists. Please do not use any in-built function."
      ],
      "metadata": {
        "id": "1fAnGjR7lCEt"
      }
    },
    {
      "cell_type": "code",
      "execution_count": null,
      "metadata": {
        "id": "dBGNULOxlAbX"
      },
      "outputs": [],
      "source": [
        "#1st way\n",
        "e1={\"Ramesh\",\"Suresh\",\"Mahesh\",\"Ali\",\"Jacob\",\"Saritha\"}\n",
        "e2={\"Ali\",\"Mukesh\",\"Mahesh\",\"Jacob\",\"Sai\",\"Sarita\"}"
      ]
    },
    {
      "cell_type": "code",
      "source": [
        "e1.intersection(e2) #1st Way"
      ],
      "metadata": {
        "colab": {
          "base_uri": "https://localhost:8080/"
        },
        "id": "bl3ILJp0lZ7Z",
        "outputId": "82d3a55b-1c47-4e7a-959a-494b4cf651cf"
      },
      "execution_count": null,
      "outputs": [
        {
          "output_type": "execute_result",
          "data": {
            "text/plain": [
              "{'Ali', 'Jacob', 'Mahesh'}"
            ]
          },
          "metadata": {},
          "execution_count": 9
        }
      ]
    },
    {
      "cell_type": "code",
      "source": [
        "#2nd way\n",
        "e1={\"Ramesh\",\"Suresh\",\"Mahesh\",\"Ali\",\"Jacob\",\"Saritha\"}\n",
        "e2={\"Ali\",\"Mukesh\",\"Mahesh\",\"Jacob\",\"Sai\",\"Sarita\"}\n",
        "for i in e1:\n",
        "  for j in e2:\n",
        "    if i==j:                    #comparing whether employee in e1 are also present in e2\n",
        "      print(i)                  #printing required output\n"
      ],
      "metadata": {
        "colab": {
          "base_uri": "https://localhost:8080/"
        },
        "id": "ybemi4xa6HDJ",
        "outputId": "6a791fd6-1721-46d7-f6b2-d722a9008d72"
      },
      "execution_count": null,
      "outputs": [
        {
          "output_type": "stream",
          "name": "stdout",
          "text": [
            "Ali\n",
            "Jacob\n",
            "Mahesh\n"
          ]
        }
      ]
    },
    {
      "cell_type": "code",
      "source": [
        "n=int(input())\n",
        "if n>90:\n",
        "  grade='A'\n",
        "elif 80 >= n<90:\n",
        "  grade='B'\n",
        "else:\n",
        "  grade='C'\n",
        "print(\"Grades :\",grade)"
      ],
      "metadata": {
        "colab": {
          "base_uri": "https://localhost:8080/"
        },
        "id": "5Z7dFLgLW_Wa",
        "outputId": "c2b62943-89ad-4ef7-8fec-418c26e74b4d"
      },
      "execution_count": null,
      "outputs": [
        {
          "output_type": "stream",
          "name": "stdout",
          "text": [
            "95\n",
            "Grades : A\n"
          ]
        }
      ]
    },
    {
      "cell_type": "markdown",
      "source": [
        "Q2: While entering data, someone entered a few names as a common string “Ramesh Suresh Mohit”. Please write a program which separates all the names and converts them into a list. Once converted into a list, please write a program that adds their age.\n",
        "\n",
        "\n",
        "\n",
        "Ramesh:  25\n",
        "\n",
        "Suresh: 22\n",
        "\n",
        "Mohit: 26\n",
        "\n"
      ],
      "metadata": {
        "id": "TA09MbCTmr4b"
      }
    },
    {
      "cell_type": "code",
      "source": [
        "a=\"Ramesh Suresh Mohit\"\n",
        "c=a.split() # split above string print(c)\n",
        "print(c)\n",
        "age={'Ramesh':25,'Suresh':22,'Mohit':26}\n",
        "total_age = 0 #intialise total_age\n",
        "for i in age: total_age=total_age+age[i]\n",
        "print(\"Total Age: \",total_age) # Printing total age after calculating total_age\n"
      ],
      "metadata": {
        "colab": {
          "base_uri": "https://localhost:8080/"
        },
        "id": "0PVpxshoX-q7",
        "outputId": "9cc73053-1fe6-4f4e-af07-58306a778033"
      },
      "execution_count": null,
      "outputs": [
        {
          "output_type": "stream",
          "name": "stdout",
          "text": [
            "['Ramesh', 'Suresh', 'Mohit']\n",
            "Total Age:  73\n"
          ]
        }
      ]
    },
    {
      "cell_type": "code",
      "source": [
        "print(c)"
      ],
      "metadata": {
        "colab": {
          "base_uri": "https://localhost:8080/"
        },
        "id": "7SuMb56UYNuV",
        "outputId": "1287bd8f-f875-4cfc-8216-bedfb90e72c0"
      },
      "execution_count": null,
      "outputs": [
        {
          "output_type": "stream",
          "name": "stdout",
          "text": [
            "['Ramesh', 'Suresh', 'Mohit']\n"
          ]
        }
      ]
    },
    {
      "cell_type": "code",
      "source": [
        "t=\" \".join(c)\n",
        "t"
      ],
      "metadata": {
        "colab": {
          "base_uri": "https://localhost:8080/",
          "height": 36
        },
        "id": "YzLes2C1YRVf",
        "outputId": "4fb08566-f339-4183-c193-bc9df85ccbe3"
      },
      "execution_count": null,
      "outputs": [
        {
          "output_type": "execute_result",
          "data": {
            "text/plain": [
              "'Ramesh Suresh Mohit'"
            ],
            "application/vnd.google.colaboratory.intrinsic+json": {
              "type": "string"
            }
          },
          "metadata": {},
          "execution_count": 8
        }
      ]
    },
    {
      "cell_type": "code",
      "source": [
        "p=t.split()\n",
        "p"
      ],
      "metadata": {
        "colab": {
          "base_uri": "https://localhost:8080/"
        },
        "id": "ZDYS88-3y1ab",
        "outputId": "2f383021-6079-4bf1-d172-2e74a961f869"
      },
      "execution_count": null,
      "outputs": [
        {
          "output_type": "execute_result",
          "data": {
            "text/plain": [
              "['Ramesh', 'Suresh', 'Mohit']"
            ]
          },
          "metadata": {},
          "execution_count": 9
        }
      ]
    },
    {
      "cell_type": "markdown",
      "source": [
        "a=\"Ramesh Suresh Mohit\" c=a.split() # split above string print(c)\n",
        "\n",
        "age={'Ramesh':25,'Suresh':22,'Mohit':26} total_age = 0 #intialise total_age for i in age: total_age=total_age+age[i] print(\"Total Age: \",total_age) # Printing total age after calculating total_age"
      ],
      "metadata": {
        "id": "t6q8eN2JX1A3"
      }
    },
    {
      "cell_type": "code",
      "source": [],
      "metadata": {
        "id": "J61EAchRX28z"
      },
      "execution_count": null,
      "outputs": []
    },
    {
      "cell_type": "code",
      "source": [
        "print(c)"
      ],
      "metadata": {
        "colab": {
          "base_uri": "https://localhost:8080/"
        },
        "id": "Px6wQw9nX4CR",
        "outputId": "138cc4e9-2561-4845-da60-3493c90a2f37"
      },
      "execution_count": null,
      "outputs": [
        {
          "output_type": "stream",
          "name": "stdout",
          "text": [
            "1\n"
          ]
        }
      ]
    },
    {
      "cell_type": "markdown",
      "source": [
        "Q3: You are working in a medical store. A patient came to your medical store and asked to buy 2 strips of paracetamol, 3 strips of azithromycin, and 5 strips of Vitamin C. One strip of paracetamol costs Rs 35, one strip of azithromycin costs Rs 49, and one strip of vitamin c costs Rs. 33. Patient gave you Rs 2000. Please tell us what is the total cost of each medicine, the total cost of all medicine, and how much money you refunded to the patient."
      ],
      "metadata": {
        "id": "svgNCTiTyNLQ"
      }
    },
    {
      "cell_type": "code",
      "source": [
        "p=2*35\n",
        "azi=3*49\n",
        "vitc=5*33\n",
        "total_cost=p+azi+vitc    # adding total cost\n",
        "refund=2000-total_cost    # calculating refund amount\n",
        "print(\"Total Cost of paracetamol:\",p)     #printing Total Cost of paracetamol\n",
        "print(\"Total cost of azithromycin:\",azi)  #printing Total cost of azithromycin\n",
        "print(\"Total cost of vitamin c:\",vitc)    #printing Total cost of vitamin c\n",
        "print(\"Total cost of all medicine\",total_cost)  # priting Total cost of all medicine\n",
        "print(\"Money refunded to patient\",refund)     # printing money refunderd to patient"
      ],
      "metadata": {
        "colab": {
          "base_uri": "https://localhost:8080/"
        },
        "id": "cpsoPg66yL8A",
        "outputId": "e31a0866-4165-4562-ea03-d17a39d3cb0e"
      },
      "execution_count": null,
      "outputs": [
        {
          "output_type": "stream",
          "name": "stdout",
          "text": [
            "Total Cost of paracetamol: 70\n",
            "Total cost of azithromycin: 147\n",
            "Total cost of vitamin c: 165\n",
            "Total cost of all medicine 382\n",
            "Money refunded to patient 1618\n"
          ]
        }
      ]
    },
    {
      "cell_type": "markdown",
      "source": [
        "Q4: Accept a sentence as input and find the number of vowels in it. Assume that the sentence has no punctuation marks. For example, I am learning python contains 6 vowels. This function should be applicable for all other different sentences."
      ],
      "metadata": {
        "id": "i3jzjfl8yn7q"
      }
    },
    {
      "cell_type": "code",
      "source": [
        "str=input(\"Enter a string!!! \")\n",
        "v_counter=0                              #intialise counter\n",
        "for i in str:\n",
        "  if i.lower() in 'aeiou':               # lowering the entered string into lower case and checking for vowels\n",
        "    v_counter=v_counter+1                #increment counter\n",
        "\n",
        "print(\"Total number of vowels in above sentence is: \",v_counter)     #printing the total vowels available"
      ],
      "metadata": {
        "colab": {
          "base_uri": "https://localhost:8080/"
        },
        "id": "RI4WZoq3yl82",
        "outputId": "63e5a9f0-499c-4c7c-f2d5-7b86ec7e2f26"
      },
      "execution_count": null,
      "outputs": [
        {
          "output_type": "stream",
          "name": "stdout",
          "text": [
            "Enter a string!!! Hello how are you\n",
            "Total number of vowels in above sentence is:  7\n"
          ]
        }
      ]
    },
    {
      "cell_type": "markdown",
      "source": [
        "Q5: You have been appointed by the election commission to create a website. Your first task is to work on a program which tells candidates if they are eligible for voting or not. If they are eligible, your output should be ‘Congrats! You are eligible’; otherwise, it should tell that you have to return after X number of years. The eligibility criteria for voting is 18 years.\n",
        "For example, If someone is 18 or above, your output should be ‘Congrats! You are eligible’. If someone’s age is 15 years, it should print output as ‘return after 3 years’.   \n",
        "\n",
        "\n",
        "\n"
      ],
      "metadata": {
        "id": "bqbcHOHPyr99"
      }
    },
    {
      "cell_type": "code",
      "source": [
        "age=int(input(\"Enter Your age !!\"))\n",
        "if age<18:                             # checking whether age is less than 18 or not\n",
        "  a=18-age\n",
        "  print(f\"return after {a} years\")     # printing return after years\n",
        "else:\n",
        "  print(f'Congrats! You are eligible')    #printing if he is eligible for vote"
      ],
      "metadata": {
        "colab": {
          "base_uri": "https://localhost:8080/"
        },
        "id": "Iys0wOJByrT2",
        "outputId": "1b014506-f998-4727-d503-5c3c68560dfc"
      },
      "execution_count": null,
      "outputs": [
        {
          "output_type": "stream",
          "name": "stdout",
          "text": [
            "Enter Your age !!14\n",
            "return after 4 years\n"
          ]
        }
      ]
    },
    {
      "cell_type": "markdown",
      "source": [
        "Q6: Given a list of integers, find the cumulative sum of the elements of the list and store them in another list.\n",
        "\n",
        "\n",
        "\n",
        "A = [1, 2, 3, 4, 5]\n",
        "\n",
        "\n",
        "\n",
        "Output:\n",
        "\n",
        "[1, 3, 6, 10, 15]\n"
      ],
      "metadata": {
        "id": "13ZgFfP6yyno"
      }
    },
    {
      "cell_type": "code",
      "source": [
        "list=[1,2,3,4,5]\n",
        "new_list=[]                           # creating new list\n",
        "j=0\n",
        "for i in range(0,len(list)):\n",
        "    j=j+list[i]\n",
        "    new_list.append(j)                # appending j items into new list\n",
        "\n",
        "print(new_list)                       # printing the new list"
      ],
      "metadata": {
        "id": "AQ9kbJs5yx9J",
        "colab": {
          "base_uri": "https://localhost:8080/"
        },
        "outputId": "7086a93f-f5a2-4353-8530-32f146be6f14"
      },
      "execution_count": null,
      "outputs": [
        {
          "output_type": "stream",
          "name": "stdout",
          "text": [
            "[1, 3, 6, 10, 15]\n"
          ]
        }
      ]
    },
    {
      "cell_type": "markdown",
      "source": [
        "Q7:\n",
        "\n",
        "WAP to encode a message entered by user as per below conditions:\n",
        "\n",
        "\n",
        "\n",
        "for every word in the sentence,\n",
        "\n",
        "1. If the word starts with a vowel, encode it as the first and last letter of the word.\n",
        "\n",
        "2. If the word starts with a consonant, remove all vowels from it.\n",
        "\n",
        "\n",
        "\n",
        "Ensure the case insensitive comparisons/checks are performed.\n",
        "\n",
        "\n",
        "\n",
        "Please enter your text:The quick brown fox used to sleep inside this box\n",
        "\n",
        "Encoded Msg: Th qck brwn fx ud t slp ie ths bx\n",
        "\n"
      ],
      "metadata": {
        "id": "SfuLRyp8y2AI"
      }
    },
    {
      "cell_type": "code",
      "source": [],
      "metadata": {
        "id": "zFP-pkMfy1Po"
      },
      "execution_count": null,
      "outputs": []
    },
    {
      "cell_type": "markdown",
      "source": [
        "Q8:\n",
        "\n",
        "Write a program to implement run length encoding of a string\n",
        "\n",
        "\n",
        "\n",
        "RLE:Consecutive repetition of a character has to be replaced with the count of occurrences and the character.\n",
        "\n",
        "\n",
        "\n",
        "Enter your string :aabbbccdddae\n",
        "\n",
        "Encoded: 2a3b2c3d1a1e"
      ],
      "metadata": {
        "id": "QGC3k3dBy6Xh"
      }
    },
    {
      "cell_type": "code",
      "source": [
        "s=input('enter string: ')\n",
        "previous=s[0]             # assigning first chracter of string to previous\n",
        "output=''               # intialise  output\n",
        "c=1\n",
        "i=1\n",
        "while i<len(s):       #checking length of string entered\n",
        "  if s[i]==previous:  # matching character to previous\n",
        "    c=c+1             # increment counter\n",
        "  else:\n",
        "    output=output+str(c)+previous      #adding character to output\n",
        "    previous=s[i]\n",
        "    c=1\n",
        "  if i==len(s)-1:                     # checking last chracter\n",
        "    output=output+str (c)+previous     # adding it to  output\n",
        "  i=i+1\n",
        "print(output)                         #printing final output"
      ],
      "metadata": {
        "colab": {
          "base_uri": "https://localhost:8080/"
        },
        "id": "l5BtrSUqniW8",
        "outputId": "00703115-780f-4bcf-d29a-8ead5bcfef1a"
      },
      "execution_count": null,
      "outputs": [
        {
          "output_type": "stream",
          "name": "stdout",
          "text": [
            "enter string: aabbbccdddae\n",
            "2a3b2c3d1a1e\n"
          ]
        }
      ]
    },
    {
      "cell_type": "code",
      "source": [],
      "metadata": {
        "id": "DZPr9iXIsU4k"
      },
      "execution_count": null,
      "outputs": []
    }
  ]
}